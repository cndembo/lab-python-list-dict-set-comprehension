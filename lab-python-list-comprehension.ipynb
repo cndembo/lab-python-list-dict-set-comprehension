{
 "cells": [
  {
   "cell_type": "markdown",
   "id": "e3fc30cb-4610-4c69-8e03-628e0e3f3657",
   "metadata": {},
   "source": [
    "Exercise: Managing Customer Orders Optimized with Comprehension\r\n",
    "In the previous exercise, you developed a program to manage customer orders and inventory. Now, let's take it a step further and incorporate comprehension into your code.\r\n",
    "\r\n",
    "Follow the steps below to complete the exercinventoryse:"
   ]
  },
  {
   "cell_type": "markdown",
   "id": "08104ef4-636e-4c36-ab47-b0c592635192",
   "metadata": {},
   "source": [
    "1. Review your code from the previous exercise and identify areas where you can apply comprehension to simplify and streamline your code.\n",
    "Hint: Apply it to initialize inventory, updating the inventory and printing the updated inventory.\n",
    "For example, in initializing the inventory, we could have:\n",
    "def initialize_inventory(products):\n",
    "    inventory = {product: int(input(f\"Enter the quantity of {product}s available: \")) for product in products}\n",
    "    return inventory"
   ]
  },
  {
   "cell_type": "code",
   "execution_count": 60,
   "id": "eae77338-a5a1-464b-8df8-ead22044dfeb",
   "metadata": {},
   "outputs": [
    {
     "name": "stdin",
     "output_type": "stream",
     "text": [
      "Enter a quantity for t-shirt 1\n",
      "Enter a quantity for mug 1\n",
      "Enter a quantity for hat 1\n",
      "Enter a quantity for book 1\n",
      "Enter a quantity for keychain 1\n"
     ]
    },
    {
     "name": "stdout",
     "output_type": "stream",
     "text": [
      "List of available products:['t-shirt', 'mug', 'hat', 'book', 'keychain']\n",
      "\n"
     ]
    },
    {
     "name": "stdin",
     "output_type": "stream",
     "text": [
      "How name orders will be placed? 3\n",
      "Enter the product to include in the order: book\n",
      "Enter the product to include in the order: mug\n",
      "Enter the product to include in the order: hat\n",
      "Enter the price of book 15\n",
      "Enter the price of mug 23\n",
      "Enter the price of hat 25\n"
     ]
    },
    {
     "name": "stdout",
     "output_type": "stream",
     "text": [
      "{'book': 15, 'mug': 23, 'hat': 25}\n",
      "\n",
      "This is the current inventory:\n",
      "{'t-shirt': 1, 'mug': 1, 'hat': 1, 'book': 1, 'keychain': 1}\n",
      "\n",
      "These are the items ordered by the customer:\n",
      "['book', 'mug', 'hat']\n",
      "Items available in the inventory after fulfilling the customer order :{'mug': 0, 'hat': 0, 'book': 0, 't-shirt': 1, 'keychain': 1}\n",
      "Total price of the order is 63€\n"
     ]
    }
   ],
   "source": [
    "list_products = [\"t-shirt\", \"mug\", \"hat\", \"book\", \"keychain\"]\n",
    "\n",
    "def initialize_inventory(products):\n",
    "    inventory={product: int(input(f\"Enter a quantity for {product}\")) for product in products}\n",
    "    return inventory\n",
    "\n",
    "inventory = initialize_inventory(list_products)\n",
    "\n",
    "#2.Modify the function get_customer_orders so it prompts the user to enter the number of customer orders and gathers the product names using a loop and user input. Use comprehension.\n",
    "#list_products = [\"t-shirt\", \"mug\", \"hat\", \"book\", \"keychain\"]\n",
    "def get_customer_orders():\n",
    "    \n",
    "    #customer_items = set()#initializing the set that will store the products ordered by the customer\n",
    "    print(f\"List of available products:{list_products}\\n\") #informing the customer wich products are available\n",
    "\n",
    "    #1 - Enter the number of orders that will be placed?;\n",
    "    number_orders = int(input(\"How name orders will be placed?\")) \n",
    "\n",
    "    #2 - Gather the product names for each order!\n",
    "    order = [val for i in range(number_orders) if(val:=input(f\"Enter the product to include in the order:\")) in list_products]\n",
    "    #print(type(order))\n",
    "    #loop to handle and remove the unavailable items\n",
    "    for item in order:\n",
    "        if inventory[item]==0:\n",
    "            print(f\"\\n{item} is not available for your order!\")\n",
    "            order.remove(item)\n",
    "            \n",
    "    return order\n",
    "customer_order = get_customer_orders()\n",
    "#print(f\"\\nThe customer ordered:\\n {customer_order}\")\n",
    "\n",
    "#3.Add a new function to calculate the total price of the customer order. For each product in customer_orders, prompt the user to enter the price of that product. Use comprehension to calculate the total price. Note: assume that the user can only have 1 unit of each product.\n",
    "def calculate_total_price():\n",
    "\n",
    "    #Prompt the user to enter the price of each product in the order list. Stored it in a dictionary\n",
    "    price_of_product = {item:int(input(f\"Enter the price of {item}\")) for item in customer_order}\n",
    "    print(price_of_product)\n",
    "\n",
    "    total_price = sum(price_of_product.values()) #don't need to use list comprehension. Sum funtcion calcultes the total\n",
    "    #print(f\"Total price of the order is {total_price}€\")\n",
    "    return total_price\n",
    "\n",
    "total = calculate_total_price()\n",
    "\n",
    "#4.Modify the update_inventory function to remove the product from the inventory if its quantity becomes zero after fulfilling the customer orders. Use comprehension to filter out the products with a quantity of zero from the inventory.\n",
    "def update_inventory(cust_order, inv):\n",
    "    print(f\"\\nThis is the current inventory:\\n{inventory}\")\n",
    "    print(f\"\\nThese are the items ordered by the customer:\\n{cust_order}\")\n",
    "\n",
    "    #loop to handle and inform about unavailable items\n",
    "    # for item in cust_order:\n",
    "    #     if item not in inv or inv[item]==0:\n",
    "    #         print(f\"{item} is not available for your order!\")\n",
    "\n",
    "    #loop to handle unavailable items in inventory\n",
    "     # for item in cust_order:\n",
    "     #     if inv[item]>0:\n",
    "     #         item:inv[item]-1\n",
    "             \n",
    "    \n",
    "             \n",
    "    \n",
    "    #fulfill will be a temporary updated inventory after fullfiling the customer order.\n",
    "    #fulfill={item:inv[item]-1 for item in cust_order if item in inv and inv[item]!=0}\n",
    "    fulfill={item:inv[item]-1 for item in inv if item in cust_order and inv[item]!=0}\n",
    "    fulfill2={item:inv[item] for item in inv if item not in cust_order}\n",
    "    upd_inventory = fulfill | fulfill2\n",
    "\n",
    "    \n",
    "    #Filter the products with a quantity of zero from the inventory\n",
    "    #upd_inventory=[key for key in inv if inv[key]!=0]#if the key stills holds a value, returns the item to store  in the updated inventory list\n",
    "    #print(f\"Items available in the inventory after fulfilling the customer order :{upd_inventory}\")\n",
    "    #print(f\"Items available in the inventory after fulfilling the customer order :{fulfill}\")\n",
    "    print(f\"Items available in the inventory after fulfilling the customer order :{upd_inventory}\")\n",
    "\n",
    "    #zero = [print(f\"These products are no longer available {item}\") for items in range(zero_product) if len(zero_product)!=null]#else print(\"All products are available!\")]\n",
    "    # if len(zero_product)!=0:\n",
    "    #     print(f\"These products are no longer available {zero_product}\")\n",
    "    # else:\n",
    "    #     print(\"All products are available!\")\n",
    "    \n",
    "    #return fulfill\n",
    "    return upd_inventory\n",
    "  \n",
    "update_inventory(customer_order, inventory)\n",
    "\n",
    "#5.Print the total price of the customer order\n",
    "print(f\"Total price of the order is {total}€\")\n",
    "\n",
    "######\n",
    "\n",
    "def functions():\n",
    "    #1. Initialize inventory, updating the inventory and printing the updated inventory\n",
    "    list_products = [\"t-shirt\", \"mug\", \"hat\", \"book\", \"keychain\"]\n",
    "    initialize_inventory(list_products)\n",
    "    inv = initialize_inventory(list_products)\n",
    "\n",
    "    #2. Prompts the user to enter the number of customer orders and gathers the product names\n",
    "    cust_order = get_customer_orders()\n",
    "    print(f\"\\nThe customer ordered:\\n {cust_order}\")\n",
    "\n",
    "    #3. Calculate the total price of the customer order. For each product in customer_orders, prompt the user to enter the price of that product.\n",
    "    calculate_total_price()\n",
    "\n",
    "    #4. Remove the product from the inventory if its quantity becomes zero after fulfilling the customer orders. \n",
    "    update_inventory(cust_order, inv)\n",
    "\n",
    "    #5. Print the total price of the customer order\n",
    "    print(f\"Total price of the order is {calculate_total_price()}€\")\n",
    "\n"
   ]
  },
  {
   "cell_type": "code",
   "execution_count": null,
   "id": "8e4bc27d-bf31-44b6-b21f-a97dcd3314fa",
   "metadata": {},
   "outputs": [],
   "source": []
  }
 ],
 "metadata": {
  "kernelspec": {
   "display_name": "Python 3 (ipykernel)",
   "language": "python",
   "name": "python3"
  },
  "language_info": {
   "codemirror_mode": {
    "name": "ipython",
    "version": 3
   },
   "file_extension": ".py",
   "mimetype": "text/x-python",
   "name": "python",
   "nbconvert_exporter": "python",
   "pygments_lexer": "ipython3",
   "version": "3.12.4"
  }
 },
 "nbformat": 4,
 "nbformat_minor": 5
}
